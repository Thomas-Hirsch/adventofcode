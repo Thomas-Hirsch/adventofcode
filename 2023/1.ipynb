{
 "cells": [
  {
   "cell_type": "code",
   "execution_count": 40,
   "metadata": {},
   "outputs": [
    {
     "name": "stdout",
     "output_type": "stream",
     "text": [
      "55725\n",
      "part 2: 55725\n"
     ]
    }
   ],
   "source": [
    "from aocd import get_data\n",
    "\n",
    "data = get_data(day=1,year=2023)\n",
    "\n",
    "def get_numbers(line):\n",
    "    numbers = \"\".join(ch for ch in line if ch.isnumeric())\n",
    "    calval = int(\"\".join([numbers[0],numbers[-1]]))\n",
    "    return calval\n",
    "\n",
    "part1 = sum(get_numbers(l) for l in data.splitlines())\n",
    "\n",
    "# part2\n",
    "\n",
    "numbers_dict = {   \n",
    "    'one': '1',\n",
    "    'two': '2',\n",
    "    'three': '3',\n",
    "    'four': '4',\n",
    "    'five': '5',\n",
    "    'six': '6',\n",
    "    'eight': '8',\n",
    "    'seven': '7',\n",
    "    'nine': '9',\n",
    "    'zero': '0',\n",
    "    '[0-9]': 'test'\n",
    "}\n",
    "\n",
    "example = data.splitlines()[0]\n",
    "\n",
    "import re\n",
    "my_pattern = re.compile(\"|\".join(numbers_dict))\n",
    "def part2(line):\n",
    "    digits = re.findall(my_pattern,line)\n",
    "    calval = [digits[0], digits[-1]]\n",
    "    for i, d in enumerate(calval):\n",
    "        if numbers_dict.get(d):\n",
    "            calval[i] = numbers_dict[d]\n",
    "    \n",
    "    return int(\"\".join(calval))\n",
    "\n",
    "\n",
    "x = 0\n",
    "for l in data.splitlines():\n",
    "    x += part2(l)\n",
    "print(x)\n",
    "print(f\"part 2: {sum(new_part2(l) for l in data.splitlines())}\")"
   ]
  },
  {
   "cell_type": "code",
   "execution_count": 45,
   "metadata": {},
   "outputs": [
    {
     "name": "stdout",
     "output_type": "stream",
     "text": [
      "part 2: 55701\n"
     ]
    }
   ],
   "source": [
    "def get_substring(input_line, is_end=False):\n",
    "    new_line_part = ''\n",
    "    replaced = False\n",
    "\n",
    "    for char in input_line:\n",
    "        new_line_part = new_line_part + char if not is_end else char + new_line_part\n",
    "\n",
    "        for k, v in numbers_dict.items():\n",
    "            if k in new_line_part:\n",
    "                new_line_part = new_line_part.replace(k, v)\n",
    "                replaced = True\n",
    "                break\n",
    "        if replaced:\n",
    "            break\n",
    "    return new_line_part\n",
    "\n",
    "\n",
    "def new_part2(line):\n",
    "    new_line_start = get_substring(line, False)\n",
    "    new_line_end = get_substring(line[::-1], True)\n",
    "    new_line = new_line_start + new_line_end\n",
    "    digits = ''.join([char for char in new_line if char.isdigit()])\n",
    "    return int(digits[0] + digits[-1])\n",
    "\n",
    "print(f\"part 2: {sum(new_part2(l) for l in data.splitlines())}\")"
   ]
  }
 ],
 "metadata": {
  "kernelspec": {
   "display_name": "Python 3 (ipykernel)",
   "language": "python",
   "name": "python3"
  },
  "language_info": {
   "codemirror_mode": {
    "name": "ipython",
    "version": 3
   },
   "file_extension": ".py",
   "mimetype": "text/x-python",
   "name": "python",
   "nbconvert_exporter": "python",
   "pygments_lexer": "ipython3",
   "version": "3.11.5"
  }
 },
 "nbformat": 4,
 "nbformat_minor": 4
}
