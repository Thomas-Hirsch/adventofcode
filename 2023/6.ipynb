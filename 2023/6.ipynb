{
 "cells": [
  {
   "cell_type": "code",
   "execution_count": 13,
   "id": "dbf09399-7d8f-4bc5-874a-6710bf1a3c7d",
   "metadata": {},
   "outputs": [
    {
     "data": {
      "text/plain": [
       "2344708"
      ]
     },
     "execution_count": 13,
     "metadata": {},
     "output_type": "execute_result"
    }
   ],
   "source": [
    "from aocd import data\n",
    "\n",
    "data = data.splitlines()\n",
    "\n",
    "times, distances = [[int(x) for x in d.split()[1:]] for d in data]\n",
    "\n",
    "\n",
    "race_combos = []\n",
    "for race in range(len(times)):\n",
    "    combos = 0\n",
    "    for charge in range(times[race]):\n",
    "        distance_travelled = charge * (times[race] - charge)\n",
    "        combos += distance_travelled >= distances[race]\n",
    "    race_combos.append(combos)\n",
    "import math\n",
    "\n",
    "part1 = math.prod(race_combos)\n",
    "\n",
    "time, distance = [int(\"\".join([x for x in d.split()[1:]])) for d in data]\n",
    "combos = 0\n",
    "for charge in range(time):\n",
    "    distance_travelled = charge * (time - charge)\n",
    "    combos += distance_travelled >= distance\n",
    "part2 = combos"
   ]
  },
  {
   "cell_type": "code",
   "execution_count": 24,
   "id": "13b70a43-a244-45ae-865a-6b5e9c180084",
   "metadata": {},
   "outputs": [
    {
     "data": {
      "text/plain": [
       "30125202"
      ]
     },
     "execution_count": 24,
     "metadata": {},
     "output_type": "execute_result"
    }
   ],
   "source": []
  },
  {
   "cell_type": "code",
   "execution_count": null,
   "id": "700f3506-5126-45ce-93e5-5b4fd481ee9e",
   "metadata": {},
   "outputs": [],
   "source": []
  }
 ],
 "metadata": {
  "kernelspec": {
   "display_name": "Python 3 (ipykernel)",
   "language": "python",
   "name": "python3"
  },
  "language_info": {
   "codemirror_mode": {
    "name": "ipython",
    "version": 3
   },
   "file_extension": ".py",
   "mimetype": "text/x-python",
   "name": "python",
   "nbconvert_exporter": "python",
   "pygments_lexer": "ipython3",
   "version": "3.11.5"
  }
 },
 "nbformat": 4,
 "nbformat_minor": 5
}
