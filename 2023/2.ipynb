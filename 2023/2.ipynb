{
 "cells": [
  {
   "cell_type": "code",
   "execution_count": null,
   "id": "2119ec25-3219-4284-a673-5668f5847f4b",
   "metadata": {},
   "outputs": [],
   "source": [
    "from aocd import get_data\n",
    "\n",
    "data = get_data(day=2,year=2023)\n",
    "\n",
    "lines = data.splitlines()\n",
    "\n",
    "valid_bag_contents = {\"red\": 12, \"green\": 13, \"blue\": 14}\n",
    "\n",
    "valid_game_bags = {}\n",
    "game_bags = {}\n",
    "\n",
    "for line in lines:\n",
    "    current_game_bag = {}\n",
    "    game_name, draws = [s.strip() for s in line.split(\":\")]\n",
    "    game_id = int(game_name.split()[1])\n",
    "    rounds = [s.strip() for s in draws.split(\";\")]\n",
    "    for round in rounds:\n",
    "        colours = round.split(\", \")\n",
    "        for colour in colours:\n",
    "            v, k = colour.split()\n",
    "            current_game_bag[k] = max(int(v), current_game_bag.get(k, 0))\n",
    "    game_bags[game_id] = current_game_bag\n",
    "    if all([current_game_bag.get(k,0) <= valid_bag_contents[k] for k in valid_bag_contents.keys()]):\n",
    "        valid_game_bags[game_id] = current_game_bag\n",
    "\n",
    "part1 = sum([k for k in valid_game_bags.keys()])\n",
    "\n",
    "from math import prod\n",
    "\n",
    "part2 = sum(prod(game.values()) for game in game_bags.values())\n"
   ]
  }
 ],
 "metadata": {
  "kernelspec": {
   "display_name": "Python 3 (ipykernel)",
   "language": "python",
   "name": "python3"
  },
  "language_info": {
   "codemirror_mode": {
    "name": "ipython",
    "version": 3
   },
   "file_extension": ".py",
   "mimetype": "text/x-python",
   "name": "python",
   "nbconvert_exporter": "python",
   "pygments_lexer": "ipython3",
   "version": "3.11.5"
  }
 },
 "nbformat": 4,
 "nbformat_minor": 5
}
