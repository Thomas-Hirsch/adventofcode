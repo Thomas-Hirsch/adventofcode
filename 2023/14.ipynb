{
 "cells": [
  {
   "cell_type": "code",
   "execution_count": null,
   "id": "8b1aa739-c38e-421c-8c95-27ac88745725",
   "metadata": {},
   "outputs": [],
   "source": [
    "from aocd import data\n",
    "from itertools import cycle\n",
    "rows = data.splitlines()\n",
    "\n",
    "def part1(rows):\n",
    "    cols = [''.join(s) for s in zip(*rows)]\n",
    "    tilted_cols = []\n",
    "    for col in cols:\n",
    "        split_col = col.split(\"#\")\n",
    "        tilted_col = \"#\".join([\"\".join(sorted(x, reverse=True)) for x in split_col])\n",
    "        tilted_cols.append(tilted_col)\n",
    "    \n",
    "    tilted_rows = [\"\".join(s) for s in zip(*tilted_cols)]\n",
    "    \n",
    "    weight = 0\n",
    "    for i, row in enumerate(tilted_rows):\n",
    "        weight += row.count(\"O\") * (len(tilted_rows) - i)\n",
    "    return weight\n",
    "\n",
    "\n",
    "dirs = [\"N\",\"W\",\"S\",\"E\"]\n",
    "\n",
    "def tilt(grid, dir):\n",
    "    # if we're going vertically, transpose rows and columns\n",
    "    grid = [''.join(s) for s in zip(*grid)] if dir in [\"N\",\"S\"] else grid\n",
    "    new_grid = []\n",
    "    for row in grid:\n",
    "        split_row = row.split(\"#\")\n",
    "        # sorted(\"O.\") gives [\".\",\"O\"] so shift reverse that order if going left/up\n",
    "        tilted_row = \"#\".join([\"\".join(sorted(x, reverse=dir in [\"N\",\"W\"])) for x in split_row])\n",
    "        new_grid.append(tilted_row)\n",
    "    # transpose back if we transposed before\n",
    "    grid = [\"\".join(s) for s in zip(*new_grid)] if dir in [\"N\",\"S\"] else new_grid\n",
    "    return grid\n",
    "\n",
    "def run_cycle(grid):\n",
    "    for dir in dirs:\n",
    "        grid = tilt(grid, dir)\n",
    "    return grid\n",
    "\n",
    "def score(grid):\n",
    "    weight = 0\n",
    "    for i, row in enumerate(grid):\n",
    "        weight += row.count(\"O\") * (len(grid) - i)\n",
    "    return weight\n",
    "\n",
    "scores = []\n",
    "grid = rows\n",
    "for i in range(10000):\n",
    "    grid = run_cycle(grid)\n",
    "    scores.append(score(grid))\n",
    "\n",
    "def find_pattern(s):\n",
    "    n = 1\n",
    "    pattern = None\n",
    "    s = s[::-1]\n",
    "    while pattern is None:\n",
    "        pattern = s[:n]\n",
    "        if s[n:2*n] == pattern:\n",
    "            pattern = s[:n]\n",
    "        else:\n",
    "            pattern = None\n",
    "        n += 1\n",
    "    return pattern[::-1]\n",
    "\n",
    "find_pattern(scores)"
   ]
  },
  {
   "cell_type": "code",
   "execution_count": 114,
   "id": "3db39259-c662-4658-999e-c5f3339d5f93",
   "metadata": {},
   "outputs": [
    {
     "name": "stdout",
     "output_type": "stream",
     "text": [
      "97241\n"
     ]
    }
   ],
   "source": [
    "def find_first_occurence(pattern, scores):\n",
    "    n = 0\n",
    "    while scores[n:n+len(pattern)] != pattern:\n",
    "        n += 1\n",
    "    return n\n",
    "pattern = find_pattern(scores)\n",
    "i0 = find_first_occurence(pattern, scores)\n",
    "\n",
    "print(pattern[(1000000000-i0-1)% len(pattern)])"
   ]
  },
  {
   "cell_type": "code",
   "execution_count": 50,
   "id": "5fe50269-1215-4b34-9744-b8c14cdb9e25",
   "metadata": {},
   "outputs": [
    {
     "name": "stdout",
     "output_type": "stream",
     "text": [
      "boulders in row 0: 5. Distance from south: 10. Their weight: 50\n",
      "boulders in row 1: 2. Distance from south: 9. Their weight: 18\n",
      "boulders in row 2: 4. Distance from south: 8. Their weight: 32\n",
      "boulders in row 3: 3. Distance from south: 7. Their weight: 21\n",
      "boulders in row 4: 0. Distance from south: 6. Their weight: 0\n",
      "boulders in row 5: 0. Distance from south: 5. Their weight: 0\n",
      "boulders in row 6: 3. Distance from south: 4. Their weight: 12\n",
      "boulders in row 7: 1. Distance from south: 3. Their weight: 3\n",
      "boulders in row 8: 0. Distance from south: 2. Their weight: 0\n",
      "boulders in row 9: 0. Distance from south: 1. Their weight: 0\n"
     ]
    },
    {
     "data": {
      "text/plain": [
       "136"
      ]
     },
     "execution_count": 50,
     "metadata": {},
     "output_type": "execute_result"
    }
   ],
   "source": [
    "example = [\"O....#....\",\n",
    "\"O.OO#....#\",\n",
    "\".....##...\",\n",
    "\"OO.#O....O\",\n",
    "\".O.....O#.\",\n",
    "\"O.#..O.#.#\",\n",
    "\"..O..#O..O\",\n",
    "\".......O..\",\n",
    "\"#....###..\",\n",
    "\"#OO..#....\"]\n",
    "part1(example)"
   ]
  },
  {
   "cell_type": "code",
   "execution_count": 52,
   "id": "d6d84987-2969-4d81-8186-83a2d7ca58fa",
   "metadata": {},
   "outputs": [
    {
     "data": {
      "text/plain": [
       "['.', 'O']"
      ]
     },
     "execution_count": 52,
     "metadata": {},
     "output_type": "execute_result"
    }
   ],
   "source": [
    "sorted(\"O.\")"
   ]
  }
 ],
 "metadata": {
  "kernelspec": {
   "display_name": "Python 3 (ipykernel)",
   "language": "python",
   "name": "python3"
  },
  "language_info": {
   "codemirror_mode": {
    "name": "ipython",
    "version": 3
   },
   "file_extension": ".py",
   "mimetype": "text/x-python",
   "name": "python",
   "nbconvert_exporter": "python",
   "pygments_lexer": "ipython3",
   "version": "3.11.5"
  }
 },
 "nbformat": 4,
 "nbformat_minor": 5
}
