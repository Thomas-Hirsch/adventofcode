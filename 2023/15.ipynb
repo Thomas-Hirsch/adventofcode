{
 "cells": [
  {
   "cell_type": "code",
   "execution_count": 2,
   "id": "f0f3eb91-c886-4441-8165-be5734b86a99",
   "metadata": {},
   "outputs": [
    {
     "data": {
      "text/plain": [
       "510801"
      ]
     },
     "execution_count": 2,
     "metadata": {},
     "output_type": "execute_result"
    }
   ],
   "source": [
    "from aocd import data\n",
    "\n",
    "codes = data.split(\",\")\n",
    "\n",
    "def parse_code(code):\n",
    "    value = 0\n",
    "    for c in code:\n",
    "        # conveniently there's a function to convert to ascii number. Not sure why it's called ord though\n",
    "        value += ord(c)\n",
    "        value *= 17\n",
    "        value = value % 256\n",
    "    return value\n",
    "\n",
    "sum([parse_code(code) for code in codes])\n",
    "        "
   ]
  }
 ],
 "metadata": {
  "kernelspec": {
   "display_name": "Python 3 (ipykernel)",
   "language": "python",
   "name": "python3"
  },
  "language_info": {
   "codemirror_mode": {
    "name": "ipython",
    "version": 3
   },
   "file_extension": ".py",
   "mimetype": "text/x-python",
   "name": "python",
   "nbconvert_exporter": "python",
   "pygments_lexer": "ipython3",
   "version": "3.11.5"
  }
 },
 "nbformat": 4,
 "nbformat_minor": 5
}
