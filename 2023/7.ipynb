{
 "cells": [
  {
   "cell_type": "code",
   "execution_count": 17,
   "id": "96fa60e7-cf22-4841-a477-40c5bc135024",
   "metadata": {},
   "outputs": [
    {
     "name": "stdout",
     "output_type": "stream",
     "text": [
      "247082903\n"
     ]
    }
   ],
   "source": [
    "from aocd import data\n",
    "from collections import Counter\n",
    "\n",
    "hand_map = str.maketrans(\"AKQJT98765432\", \"ABCDEFGHIJKLM\")\n",
    "string_map_back = str.maketrans(\"ABCDEFGHIJKLM\", \"AKQJT98765432\")\n",
    "\n",
    "hand_list = [[hand.translate(hand_map), int(bid)] for hand, bid in [line.split() for line in data.splitlines()]]\n",
    "hand_list = [[sorted(list(Counter(hand).values()), reverse=True), hand, bid] for hand, bid in hand_list]\n",
    "hand_list = sorted(hand_list, reverse=True)\n",
    "n_hands = len(hand_list)\n",
    "hand_list = [[card_counts, hand.translate(string_map_back), bid, bid*(n_hands-index)] for index, [card_counts, hand, bid] in enumerate(hand_list)]\n",
    "\n",
    "print(sum([score for card_counts, hand, bid, score in hand_list]))"
   ]
  }
 ],
 "metadata": {
  "kernelspec": {
   "display_name": "Python 3 (ipykernel)",
   "language": "python",
   "name": "python3"
  },
  "language_info": {
   "codemirror_mode": {
    "name": "ipython",
    "version": 3
   },
   "file_extension": ".py",
   "mimetype": "text/x-python",
   "name": "python",
   "nbconvert_exporter": "python",
   "pygments_lexer": "ipython3",
   "version": "3.11.5"
  }
 },
 "nbformat": 4,
 "nbformat_minor": 5
}
