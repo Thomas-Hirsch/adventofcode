{
 "cells": [
  {
   "cell_type": "code",
   "execution_count": 3,
   "id": "dbf5ef10-a7e8-4a4d-8267-8fcc142b4c05",
   "metadata": {},
   "outputs": [
    {
     "name": "stdout",
     "output_type": "stream",
     "text": [
      "LLRLLRRLRLRRRLRRLLRRRLRLRLRRLRRRLRRLRLRLLRLLLRRRLRRLRRRLRRRLRRRLRLRRLLRRLRRLRRLRRRLRLRRRLLRLRRLRRRLRLRRRLRRRLRLRRRLLRRRLRRRLRLRRLRLRRRLLRRLRRLRRLRRLRLRLRRRLLRRRLRRLRRRLRLRLRRRLLRLRRLLRLRRLRLRRRLRLRRLLRRRLLRRLRLRLLRLLRRLRRLLRRLRLRRLRLRLRRRLRRLRLLLLRRLRLRLRRRLLLRRRLRRLRRLRLLRLRRRLLLRRRLRRRLRRRR\n",
      "13771\n"
     ]
    }
   ],
   "source": [
    "from aocd import get_data\n",
    "from parse import compile\n",
    "from itertools import cycle\n",
    "\n",
    "data = get_data(day=8,year=2023)\n",
    "lrs, instructions = data.split(\"\\n\\n\")\n",
    "\n",
    "instructions = instructions.splitlines()\n",
    "\n",
    "instructions_dict = {}\n",
    "p = compile(\"{} = ({}, {})\")\n",
    "for i in instructions:\n",
    "    k,l,r = p.parse(i)\n",
    "    instructions_dict[k] = (l,r)\n",
    "\n",
    "position = \"AAA\"\n",
    "print(lrs)\n",
    "for i, lr in enumerate(cycle(lrs)):\n",
    "    next_instructions = instructions_dict[position]\n",
    "    #print(f\"{position}: {next_instructions}. next iteration: {lr}\")\n",
    "    position = next_instructions[0] if lr == \"L\" else next_instructions[1]\n",
    "    if position == \"ZZZ\":\n",
    "        print(i+1)\n",
    "        break\n"
   ]
  },
  {
   "cell_type": "code",
   "execution_count": null,
   "id": "9e6a6253-f2cf-4869-bc1b-d1e052e3633a",
   "metadata": {},
   "outputs": [],
   "source": [
    "positions = [k for k in instructions_dict if k.endswith(\"A\")]\n",
    "\n",
    "for i, lr in enumerate(cycle(lrs)):\n",
    "    print(positions)\n",
    "    next_instructions = [instructions_dict[position] for position in positions]\n",
    "    print(next_instructions)\n",
    "    print(lr)\n",
    "    positions = [next_instructions[position][0] if lr == \"L\" else next_instructions[position][1] for position, _ in enumerate(positions)]\n",
    "    if all([p.endswith(\"Z\") for p in positions]):\n",
    "        print(i+1)\n",
    "        break"
   ]
  }
 ],
 "metadata": {
  "kernelspec": {
   "display_name": "Python 3 (ipykernel)",
   "language": "python",
   "name": "python3"
  },
  "language_info": {
   "codemirror_mode": {
    "name": "ipython",
    "version": 3
   },
   "file_extension": ".py",
   "mimetype": "text/x-python",
   "name": "python",
   "nbconvert_exporter": "python",
   "pygments_lexer": "ipython3",
   "version": "3.11.5"
  }
 },
 "nbformat": 4,
 "nbformat_minor": 5
}
