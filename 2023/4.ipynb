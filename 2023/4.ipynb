{
 "cells": [
  {
   "cell_type": "code",
   "execution_count": 3,
   "id": "d629f1ca-7409-469a-bd1b-d45ec4d0ba8d",
   "metadata": {},
   "outputs": [
    {
     "data": {
      "text/plain": [
       "21558"
      ]
     },
     "execution_count": 3,
     "metadata": {},
     "output_type": "execute_result"
    }
   ],
   "source": [
    "from aocd import data\n",
    "\n",
    "data = data.splitlines()\n",
    "\n",
    "card_counts = {}\n",
    "\n",
    "for i in range(len(data):\n",
    "    card_counts[i] = 1\n",
    "\n",
    "total_score = 0\n",
    "for i, line in enumerate(data):\n",
    "    card_no, numbers = line.split(\":\")\n",
    "    my_card, pulled_numbers = [x.split() for x in numbers.split(\"|\")]\n",
    "    winners = [x for x in my_card if x in pulled_numbers]\n",
    "    if winners:\n",
    "        total_score += 2 ** (len(winners) -1)\n",
    "part1 = total_score"
   ]
  },
  {
   "cell_type": "code",
   "execution_count": 9,
   "id": "83209aaf-49b6-4ee5-b153-eb67caf7a4b0",
   "metadata": {},
   "outputs": [
    {
     "name": "stdout",
     "output_type": "stream",
     "text": [
      "10425665\n"
     ]
    }
   ],
   "source": [
    "card_counts = {}\n",
    "\n",
    "for i in range(len(data)):\n",
    "    card_counts[i] = 1\n",
    "\n",
    "total_score = 0\n",
    "for card_number, line in enumerate(data):\n",
    "    card_no, numbers = line.split(\":\")\n",
    "    my_card, pulled_numbers = [x.split() for x in numbers.split(\"|\")]\n",
    "    winners = [x for x in my_card if x in pulled_numbers]\n",
    "    if winners:\n",
    "        # part1\n",
    "        total_score += 2 ** (len(winners) -1)\n",
    "        # part2\n",
    "        for i in range(1, len(winners) + 1):\n",
    "            card_counts[card_number + i] += card_counts[card_number]\n",
    "\n",
    "part1 = total_score\n",
    "part2 = sum([v for k,v in card_counts.items()])\n",
    "print(part2)"
   ]
  }
 ],
 "metadata": {
  "kernelspec": {
   "display_name": "Python 3 (ipykernel)",
   "language": "python",
   "name": "python3"
  },
  "language_info": {
   "codemirror_mode": {
    "name": "ipython",
    "version": 3
   },
   "file_extension": ".py",
   "mimetype": "text/x-python",
   "name": "python",
   "nbconvert_exporter": "python",
   "pygments_lexer": "ipython3",
   "version": "3.11.5"
  }
 },
 "nbformat": 4,
 "nbformat_minor": 5
}
