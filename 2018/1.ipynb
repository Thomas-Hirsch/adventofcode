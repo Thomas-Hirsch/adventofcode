{
 "cells": [
  {
   "cell_type": "code",
   "execution_count": 2,
   "id": "90617450-9231-4371-bc48-cee395fe47f6",
   "metadata": {},
   "outputs": [
    {
     "data": {
      "text/plain": [
       "481"
      ]
     },
     "execution_count": 2,
     "metadata": {},
     "output_type": "execute_result"
    }
   ],
   "source": [
    "from aocd import get_data\n",
    "\n",
    "\n",
    "data = get_data(day=1, year=2018)\n",
    "changes = data.splitlines()\n",
    "def part1(data):\n",
    "    return sum([int(d) for d in data.splitlines()])\n",
    "\n",
    "\n",
    "def part2(changes):\n",
    "    \n",
    "    # starting frequency is zero\n",
    "    f = 0\n",
    "\n",
    "    # create a new set to track frequencies that have been seen\n",
    "    # initialize with the current frequency (zero)\n",
    "    seen = {f}\n",
    "\n",
    "    # repeatedly loop over the lines in the file\n",
    "    # a repeat is not guaranteed to occur on the first pass\n",
    "    while True:\n",
    "        for line in changes:\n",
    "            # update the current frequency\n",
    "            f += int(line)\n",
    "\n",
    "            # check if this is a repeat\n",
    "            if f in seen:\n",
    "                return f\n",
    "\n",
    "            # remember the current frequency\n",
    "            seen.add(f)\n",
    "part2(data.splitlines())"
   ]
  },
  {
   "cell_type": "code",
   "execution_count": 23,
   "id": "d82d95fa-0e97-405f-9fe2-f9bd916b467b",
   "metadata": {},
   "outputs": [
    {
     "name": "stdout",
     "output_type": "stream",
     "text": [
      "efmyhuckqldtwjyvisipargno\n",
      "efmyhfuckqldtwjyvisipargno\n",
      "efmyhuuckqldtwjyvisipargno\n",
      "efmyhuckqldtwjyvisipargno\n",
      "efmyhuuckqldtwjyvisipargno\n",
      "efmyhfuckqldtwjyvisipargno\n"
     ]
    }
   ],
   "source": [
    "from collections import Counter\n",
    "\n",
    "data = get_data(day=2, year=2018).splitlines()\n",
    "\n",
    "twos = threes = 0\n",
    "\n",
    "for line in data:\n",
    "    counts = Counter(line).values()\n",
    "    if 2 in counts:\n",
    "        twos += 1\n",
    "    if 3 in counts:\n",
    "        threes += 1\n",
    "\n",
    "part1 = twos * threes\n",
    "\n",
    "for x in data:\n",
    "    for y in data:\n",
    "        diffs = 0\n",
    "        for c in range(len(x)):\n",
    "            if x[c] != y[c]:\n",
    "               diffs += 1\n",
    "        if diffs == 1:\n",
    "            ans = []\n",
    "            for i in range(len(x)):\n",
    "                if x[i] == y[i]:\n",
    "                    ans.append(x[i])\n",
    "            print(''.join(ans))\n",
    "            print(x)\n",
    "            print(y)\n"
   ]
  },
  {
   "cell_type": "code",
   "execution_count": null,
   "id": "68e4a4ce-f548-472b-a48e-fa38b7360b83",
   "metadata": {},
   "outputs": [],
   "source": []
  }
 ],
 "metadata": {
  "kernelspec": {
   "display_name": "Python 3 (ipykernel)",
   "language": "python",
   "name": "python3"
  },
  "language_info": {
   "codemirror_mode": {
    "name": "ipython",
    "version": 3
   },
   "file_extension": ".py",
   "mimetype": "text/x-python",
   "name": "python",
   "nbconvert_exporter": "python",
   "pygments_lexer": "ipython3",
   "version": "3.11.5"
  }
 },
 "nbformat": 4,
 "nbformat_minor": 5
}
