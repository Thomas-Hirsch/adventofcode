{
 "metadata": {
  "language_info": {
   "codemirror_mode": {
    "name": "ipython",
    "version": 3
   },
   "file_extension": ".py",
   "mimetype": "text/x-python",
   "name": "python",
   "nbconvert_exporter": "python",
   "pygments_lexer": "ipython3",
   "version": "3.8.5-final"
  },
  "orig_nbformat": 2,
  "kernelspec": {
   "name": "python3",
   "display_name": "Python 3"
  }
 },
 "nbformat": 4,
 "nbformat_minor": 2,
 "cells": [
  {
   "source": [
    "Day 2: password validation! I was much happier with this one, as it was a lot trickier to come up with a suboptimal brute force, and I like that my solution is both reasonably concise and human-readable. When I read it was about checking passwords, I was worried this would require a regexy solution, and I fundamentally dislike regex as it's generally basically write-only, and I like code to be readable. Fortunately my fears were unfounded."
   ],
   "cell_type": "markdown",
   "metadata": {}
  },
  {
   "cell_type": "code",
   "execution_count": 1,
   "metadata": {},
   "outputs": [],
   "source": [
    "# Magic input file getter. Input is different for each user, so need to log in.\n",
    "\n",
    "import requests\n",
    "import os\n",
    "\n",
    "USER_SESSION_ID = '53616c7465645f5f28ea7ef5037e8785890e19a5bd44ec72efbcc3a62e9dba539375068d57d79167bc10a249c4a958f6'\n",
    "\n",
    "\n",
    "def load_input(year, day):\n",
    "    response = requests.get(f'https://adventofcode.com/{year}/day/{day}/input', cookies={'session': USER_SESSION_ID})\n",
    "    if response.ok:\n",
    "        with open('input.txt', 'w') as f:\n",
    "            f.write(response.text)\n",
    "\n",
    "split_path = os.getcwd().split(sep='/')\n",
    "year = int(split_path[-2])\n",
    "day = int(split_path[-1])\n",
    "load_input(year, day)"
   ]
  },
  {
   "source": [
    "Day 2 part 1: check if the number of a particular character lies in a given range."
   ],
   "cell_type": "markdown",
   "metadata": {}
  },
  {
   "cell_type": "code",
   "execution_count": 2,
   "metadata": {},
   "outputs": [
    {
     "output_type": "stream",
     "name": "stdout",
     "text": [
      "434\n"
     ]
    }
   ],
   "source": [
    "# First have a loop to test each password. As you'll see, this allows password_valid to be redefined for part 2\n",
    "def check_passwords(filepath):\n",
    "    with open(filepath) as f:\n",
    "        passwords = f.readlines()\n",
    "    valids = 0\n",
    "    for p in passwords:\n",
    "        if password_valid(p):\n",
    "            valids += 1\n",
    "    return valids\n",
    "\n",
    "def password_valid(password_line):\n",
    "    minmax, character, password = password_line.split(' ') # split the columns into constituent parts\n",
    "    min_length, max_length = [int(i) for i in minmax.split('-')] # process the first bit, by getting the numbers out of the number range\n",
    "    letter_matches = [l for l in password if l in character[0]] # filter the password to just the desired character\n",
    "    return min_length <= len(letter_matches) <= max_length # I like how you can chain inequalities in python. It's intuitive, but not all languages allow it\n",
    "\n",
    "\n",
    "print(check_passwords(\"input.txt\"))"
   ]
  },
  {
   "source": [
    "Part 2: same input, new algorithm. Now the number ranges in the first column refer to the position in the password where the desired character must match at most once. In other words a XOR match."
   ],
   "cell_type": "markdown",
   "metadata": {}
  },
  {
   "cell_type": "code",
   "execution_count": 3,
   "metadata": {},
   "outputs": [
    {
     "output_type": "stream",
     "name": "stdout",
     "text": [
      "509\n"
     ]
    }
   ],
   "source": [
    "# same function as in the first part\n",
    "def check_passwords(filepath):\n",
    "    with open(filepath) as f:\n",
    "        passwords = f.readlines()\n",
    "    valids = 0\n",
    "    for p in passwords:\n",
    "        if password_valid(p):\n",
    "            valids += 1\n",
    "    return valids\n",
    "\n",
    "\n",
    "def password_valid(password_line):\n",
    "    minmax, character, password = password_line.split(' ')\n",
    "    first_pos, second_pos = [int(i) for i in minmax.split('-')] # so far so familiar, just renaming the variables\n",
    "    match_1 = password[first_pos - 1] == character[0]\n",
    "    match_2 = password[second_pos - 1] == character[0] # check matches, remembering that python has zero-indexing\n",
    "    return match_1 ^ match_2 # turns out the ^ is the XOR operator, which I'm sure will confuse people coming from R.\n",
    "\n",
    "\n",
    "print(check_passwords(\"input.txt\"))"
   ]
  },
  {
   "source": [
    "Couple of thoughts:\n",
    "\n",
    "1. This solution relies on some assumptions that I tested but didn't include for brevity - like how the first number in the range is always less than the second.\n",
    "2. This would've been a good opportunity to try it in bash using `awk`, and that would probably be more efficient."
   ],
   "cell_type": "markdown",
   "metadata": {}
  }
 ]
}