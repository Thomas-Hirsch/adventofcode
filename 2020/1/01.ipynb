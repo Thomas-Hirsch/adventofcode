{
 "metadata": {
  "language_info": {
   "codemirror_mode": {
    "name": "ipython",
    "version": 3
   },
   "file_extension": ".py",
   "mimetype": "text/x-python",
   "name": "python",
   "nbconvert_exporter": "python",
   "pygments_lexer": "ipython3",
   "version": "3.8.5-final"
  },
  "orig_nbformat": 2,
  "kernelspec": {
   "name": "python3",
   "display_name": "Python 3"
  }
 },
 "nbformat": 4,
 "nbformat_minor": 2,
 "cells": [
  {
   "source": [
    "Find two numbers from a list that sum to 2020, and give the product.\n",
    "\n",
    "I did the absolute laziest solution to this, because in starting this I discovered I couldn't remember how to do some basic python commands. I know there's better ways of processing lists of things, but here I was only really interested in finding the answer so whatever."
   ],
   "cell_type": "markdown",
   "metadata": {}
  },
  {
   "cell_type": "code",
   "execution_count": 1,
   "metadata": {},
   "outputs": [
    {
     "output_type": "stream",
     "name": "stdout",
     "text": [
      "a: 71\n, b: 1949\n, a+b: 2020, a * b = 138379\n"
     ]
    }
   ],
   "source": [
    "# part 1 - nested for loop fun\n",
    "def find_numbers():\n",
    "    with open(\"input.txt\") as f:\n",
    "        numbers = f.readlines()\n",
    "        for a in numbers:\n",
    "            for b in numbers:\n",
    "                if int(a) + int(b)== 2020:\n",
    "                    return(a,b)\n",
    "a, b = find_numbers()\n",
    "print(f\"a: {a}, b: {b}, a+b: {int(a) + int(b)}, a * b = {int(a) * int(b)}\")"
   ]
  },
  {
   "cell_type": "code",
   "execution_count": 2,
   "metadata": {},
   "outputs": [
    {
     "output_type": "stream",
     "name": "stdout",
     "text": [
      "a: 970\n, b: 958\n, c: 92\n, a+b+c: 2020, a * b * c = 85491920\n"
     ]
    }
   ],
   "source": [
    "# part 2 - add an interior loop!\n",
    "def find_numbers():\n",
    "    with open(\"input.txt\") as f:\n",
    "        numbers = f.readlines()\n",
    "        for a in numbers:\n",
    "            for b in numbers:\n",
    "                for c in numbers:\n",
    "                    if int(a) + int(b) + int(c) == 2020:\n",
    "                        return(a,b,c)\n",
    "a, b, c = find_numbers()\n",
    "print(f\"a: {a}, b: {b}, c: {c}, a+b+c: {int(a) + int(b) + int(c)}, a * b * c = {int(a) * int(b) * int(c)}\")"
   ]
  },
  {
   "cell_type": "code",
   "execution_count": 20,
   "metadata": {},
   "outputs": [],
   "source": [
    "import requests\n",
    "USER_SESSION_ID = '53616c7465645f5f28ea7ef5037e8785890e19a5bd44ec72efbcc3a62e9dba539375068d57d79167bc10a249c4a958f6'\n",
    "\n",
    "def load_input(year, day):\n",
    "    response = requests.get(f'https://adventofcode.com/{year}/day/{day}/input', cookies={'session': USER_SESSION_ID})\n",
    "    if response.ok:\n",
    "        with open(f'~/{year}/{day}/input.txt', 'w') as f:\n",
    "            f.write(response.text)"
   ]
  },
  {
   "cell_type": "code",
   "execution_count": 18,
   "metadata": {},
   "outputs": [],
   "source": [
    "import os\n",
    "split_path = os.getcwd().split(sep='/')\n",
    "year = int(split_path[-2])\n",
    "day = int(split_path[-1])\n",
    "load_input(2020, 2)"
   ]
  },
  {
   "cell_type": "code",
   "execution_count": null,
   "metadata": {},
   "outputs": [],
   "source": []
  }
 ]
}