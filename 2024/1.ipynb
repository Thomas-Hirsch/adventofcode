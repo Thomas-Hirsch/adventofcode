{
 "cells": [
  {
   "cell_type": "code",
   "execution_count": null,
   "metadata": {},
   "outputs": [],
   "source": [
    "# the package Advent of Code Data makes the load step a lot easier\n",
    "from aocd import get_data\n",
    "\n",
    "# give me list of lists by row\n",
    "pairs = [x.split() for x in get_data(day=1, year=2024).splitlines()]\n",
    "\n",
    "# transpose them to left and right list\n",
    "transposed = list(map(list, zip(*pairs)))\n",
    "\n",
    "# sort them, remembering that sorted(list) is different from list.sort()\n",
    "sorteds = [sorted(x) for x in transposed]\n",
    "\n",
    "# turn them into ints. Could've done it more concisely but it's Sunday and I'm tired\n",
    "l, r = [[int(x) for x in my_list] for my_list in sorteds]\n",
    "\n",
    "# data cleaning out of the way, let's do the answer\n",
    "distance = 0\n",
    "for i in range(len(sorteds[0])):\n",
    "    distance += abs(l[i]- r[i])\n",
    "\n",
    "print(f\"Part 1: {distance}\")"
   ]
  },
  {
   "cell_type": "code",
   "execution_count": null,
   "metadata": {},
   "outputs": [],
   "source": [
    "# Part 2\n",
    "from collections import Counter\n",
    "\n",
    "r_counts = Counter(r)\n",
    "\n",
    "print(f\"Part 2: {sum(x * r_counts[x] for x in l)}\")"
   ]
  }
 ],
 "metadata": {
  "kernelspec": {
   "display_name": "venv",
   "language": "python",
   "name": "python3"
  },
  "language_info": {
   "codemirror_mode": {
    "name": "ipython",
    "version": 3
   },
   "file_extension": ".py",
   "mimetype": "text/x-python",
   "name": "python",
   "nbconvert_exporter": "python",
   "pygments_lexer": "ipython3",
   "version": "3.11.9"
  }
 },
 "nbformat": 4,
 "nbformat_minor": 2
}
