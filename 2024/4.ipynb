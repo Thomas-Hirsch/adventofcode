{
 "cells": [
  {
   "cell_type": "code",
   "execution_count": 37,
   "metadata": {},
   "outputs": [
    {
     "data": {
      "text/plain": [
       "2543"
      ]
     },
     "execution_count": 37,
     "metadata": {},
     "output_type": "execute_result"
    }
   ],
   "source": [
    "from aocd import get_data\n",
    "\n",
    "data = get_data(day=4, year=2024).splitlines()\n",
    "\n",
    "directions = {\"east\": (1,0), \"south\": (0,1), \"southwest\": (-1,1), \"southeast\": (1,1)}\n",
    "search_words = [\"XMAS\", \"SAMX\"]\n",
    "\n",
    "def valid_direction(x,y,word, direction):\n",
    "    xes = [x + (i * direction[0]) for i in range(len(word))]\n",
    "    ys = [y + (i * direction[1]) for i in range(len(word))]\n",
    "    return all([0 <= x < len(data[0]) for x in xes]) and all([0 <= y < len(data) for y in ys])\n",
    "\n",
    "\n",
    "def find_words(x,y,word, direction):\n",
    "    if valid_direction(x,y,word,direction):\n",
    "        maybe_word = \"\".join([data[y+(direction[1]*i)][x+(direction[0]*i)] for i in range(len(word))])\n",
    "        return maybe_word == word\n",
    "    else:\n",
    "        return False\n",
    "\n",
    "count = 0\n",
    "x = y = 0\n",
    "for y, line in enumerate(data):\n",
    "    for x, v in enumerate(line):\n",
    "        for direction in directions.values():\n",
    "            for word in search_words:\n",
    "                count += find_words(x,y,word,direction)\n",
    "count"
   ]
  },
  {
   "cell_type": "code",
   "execution_count": 38,
   "metadata": {},
   "outputs": [
    {
     "data": {
      "text/plain": [
       "1930"
      ]
     },
     "execution_count": 38,
     "metadata": {},
     "output_type": "execute_result"
    }
   ],
   "source": [
    "count = 0\n",
    "new_words = [\"MAS\", \"SAM\"]\n",
    "for y, line in enumerate(data):\n",
    "    for x, v in enumerate(line):\n",
    "        if any(find_words(x,y,word,directions[\"southeast\"]) for word in new_words):\n",
    "            count += any(find_words(x+2,y,word,directions[\"southwest\"]) for word in new_words)\n",
    "\n",
    "count"
   ]
  }
 ],
 "metadata": {
  "kernelspec": {
   "display_name": "venv",
   "language": "python",
   "name": "python3"
  },
  "language_info": {
   "codemirror_mode": {
    "name": "ipython",
    "version": 3
   },
   "file_extension": ".py",
   "mimetype": "text/x-python",
   "name": "python",
   "nbconvert_exporter": "python",
   "pygments_lexer": "ipython3",
   "version": "3.11.9"
  }
 },
 "nbformat": 4,
 "nbformat_minor": 2
}
