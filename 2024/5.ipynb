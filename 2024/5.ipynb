{
 "cells": [
  {
   "cell_type": "code",
   "execution_count": 5,
   "metadata": {},
   "outputs": [
    {
     "data": {
      "text/plain": [
       "4818"
      ]
     },
     "execution_count": 5,
     "metadata": {},
     "output_type": "execute_result"
    }
   ],
   "source": [
    "from aocd import get_data\n",
    "from collections import defaultdict\n",
    "from functools import cmp_to_key\n",
    "\n",
    "\n",
    "data = get_data(year=2024, day=5)\n",
    "\n",
    "instructions, updates = data.split(\"\\n\\n\")\n",
    "instructions = [line.split(\"|\") for line in instructions.splitlines()]\n",
    "updates = [[int(x) for x in l] for l in [line.split(\",\") for line in updates.splitlines()]]\n",
    "\n",
    "dag = defaultdict(list)\n",
    "\n",
    "for before, after in instructions:\n",
    "    dag[int(before)].append(int(after))\n",
    "\n",
    "valids = []\n",
    "invalids = []\n",
    "part1 = 0\n",
    "for update in updates:\n",
    "    valid = True\n",
    "    for i, before in enumerate(update):\n",
    "        for j, after in enumerate(update):\n",
    "            if i > j and after in dag[before]:\n",
    "                valid = False\n",
    "                break\n",
    "\n",
    "    if valid:\n",
    "        valids.append(update)\n",
    "        part1 += update[len(update)//2]\n",
    "    else:\n",
    "        invalids.append(update)\n",
    "\n",
    "fixed = []\n",
    "\n",
    "befores = set([int(i[0]) for i in instructions])\n",
    "afters = set([int(i[1]) for i in instructions])\n",
    "sub_dag = {}\n",
    "\n",
    "part2 = 0\n",
    "\n",
    "def sortFn(a, b): # for part 2\n",
    "        if [a, b] in instructions:return -1\n",
    "        elif [b, a] in instructions: return 1\n",
    "        else: return 0\n",
    "\n",
    "for pages in invalids:\n",
    "    fixed = sorted(pages, key=cmp_to_key(sortFn))\n",
    "    part2 += fixed[len(fixed) // 2]\n",
    "\n",
    "\n",
    "part2\n",
    "\n",
    "\n"
   ]
  },
  {
   "cell_type": "code",
   "execution_count": 4,
   "metadata": {},
   "outputs": [
    {
     "name": "stdout",
     "output_type": "stream",
     "text": [
      "6384\n",
      "5353\n"
     ]
    }
   ],
   "source": [
    "ordering_rules, updates = data.split(\"\\n\\n\")\n",
    "\n",
    "ordering_rules = [tuple(map(int, rule.split(\"|\"))) for rule in ordering_rules.split(\"\\n\")]\n",
    "updates = [list(map(int, update.split(\",\"))) for update in updates.split(\"\\n\")]\n",
    "\n",
    "def sortFn(a, b): # for part 2\n",
    "    if (a, b) in ordering_rules: return -1\n",
    "    elif (b, a) in ordering_rules: return 1\n",
    "    else: return 0\n",
    "\n",
    "\n",
    "part1, part2 = 0, 0\n",
    "\n",
    "for update in updates:\n",
    "    is_ordered = all([update.index(x) < update.index(y) for x, y in ordering_rules if x in update and y in update])\n",
    "    \n",
    "    if is_ordered: # part 1\n",
    "        part1 += update[len(update)//2] \n",
    "    else: # part 2\n",
    "        update_sorted = sorted(update, key=cmp_to_key(sortFn))\n",
    "        part2 += update_sorted[len(update_sorted)//2]\n",
    "\n",
    "\n",
    "print(part1)\n",
    "print(part2)"
   ]
  },
  {
   "cell_type": "code",
   "execution_count": 31,
   "metadata": {},
   "outputs": [
    {
     "data": {
      "text/plain": [
       "dict_items([(61, [98, 29, 64, 43, 72, 88, 93, 42, 75, 77, 56, 59, 73, 34, 94, 92, 32, 85, 51, 99, 87, 11, 35, 26]), (25, [32, 15, 58, 59, 74, 43, 51, 56, 79, 69, 61, 66, 99, 36, 11, 73, 46, 77, 98, 72, 42, 35, 37, 62]), (98, [88, 77, 34, 35, 99, 64, 93, 84, 87, 32, 92, 72, 43, 85, 11, 26, 12, 51, 73, 29, 94, 59, 75, 56]), (32, [34, 13, 75, 91, 93, 87, 84, 53, 92, 64, 76, 26, 12, 41, 22, 96, 39, 85, 27, 94, 35, 24, 88, 29]), (87, [13, 26, 39, 75, 27, 47, 29, 93, 36, 41, 12, 24, 46, 58, 53, 84, 66, 76, 25, 96, 22, 91, 94, 62]), (26, [46, 13, 75, 29, 93, 53, 91, 62, 66, 24, 84, 74, 27, 58, 22, 39, 12, 76, 41, 36, 94, 47, 96, 25]), (22, [39, 42, 76, 46, 98, 24, 37, 53, 61, 58, 74, 25, 66, 47, 41, 96, 36, 51, 15, 62, 69, 79, 91, 27]), (76, [74, 79, 39, 11, 15, 42, 36, 69, 37, 53, 58, 66, 51, 41, 24, 91, 62, 61, 27, 96, 98, 46, 25, 47]), (77, [85, 99, 34, 94, 43, 59, 56, 22, 29, 64, 87, 92, 26, 84, 76, 12, 32, 75, 24, 72, 88, 35, 13, 93]), (79, [94, 26, 29, 32, 85, 98, 88, 34, 61, 99, 59, 42, 64, 35, 43, 87, 51, 73, 37, 72, 77, 11, 92, 56]), (58, [69, 32, 98, 79, 11, 77, 59, 43, 15, 35, 74, 34, 64, 42, 72, 51, 92, 56, 61, 73, 99, 37, 88, 85]), (96, [51, 46, 11, 72, 98, 66, 62, 15, 42, 43, 69, 37, 74, 39, 73, 47, 79, 25, 61, 77, 41, 36, 56, 58]), (74, [32, 99, 72, 43, 51, 88, 61, 79, 35, 56, 59, 34, 69, 42, 15, 98, 73, 37, 64, 87, 85, 11, 77, 92]), (27, [15, 37, 98, 96, 39, 79, 61, 25, 66, 36, 91, 77, 62, 56, 47, 41, 51, 11, 46, 69, 42, 73, 74, 58]), (39, [79, 56, 15, 36, 77, 58, 73, 69, 66, 98, 99, 42, 74, 61, 47, 43, 25, 51, 72, 46, 11, 59, 62, 37]), (12, [22, 15, 62, 66, 76, 69, 39, 91, 61, 58, 46, 79, 37, 25, 74, 24, 47, 41, 36, 27, 96, 84, 13, 53]), (43, [13, 35, 88, 24, 75, 53, 72, 27, 64, 93, 85, 87, 94, 59, 92, 84, 12, 29, 26, 32, 99, 22, 34, 76]), (15, [61, 87, 32, 79, 77, 35, 29, 11, 26, 59, 51, 85, 34, 92, 98, 64, 99, 37, 56, 88, 42, 72, 73, 43]), (46, [42, 61, 51, 64, 66, 79, 36, 59, 58, 11, 98, 15, 43, 77, 69, 35, 72, 56, 73, 99, 32, 74, 62, 37]), (35, [53, 75, 39, 12, 76, 96, 47, 84, 88, 24, 94, 27, 26, 91, 34, 64, 92, 93, 87, 29, 85, 22, 13, 41]), (99, [32, 92, 22, 12, 24, 94, 26, 96, 87, 88, 91, 34, 27, 29, 76, 13, 53, 75, 85, 93, 84, 35, 59, 64]), (88, [93, 41, 27, 75, 62, 76, 39, 25, 24, 47, 96, 94, 46, 12, 91, 13, 34, 87, 29, 26, 85, 84, 22, 53]), (69, [77, 92, 11, 79, 99, 34, 98, 51, 88, 15, 56, 87, 35, 26, 61, 42, 72, 64, 37, 59, 85, 43, 32, 73]), (91, [73, 37, 96, 47, 11, 58, 62, 74, 15, 79, 69, 39, 42, 43, 77, 66, 46, 41, 61, 98, 51, 25, 56, 36]), (64, [94, 22, 91, 39, 34, 84, 27, 47, 13, 93, 25, 75, 88, 96, 12, 92, 53, 41, 24, 87, 76, 26, 29, 85]), (41, [61, 37, 42, 47, 69, 79, 51, 56, 72, 66, 62, 15, 11, 58, 46, 73, 99, 98, 77, 43, 25, 36, 39, 74]), (93, [13, 47, 58, 66, 74, 79, 24, 96, 15, 84, 76, 27, 22, 69, 62, 12, 41, 25, 46, 75, 53, 36, 39, 91]), (84, [46, 39, 61, 36, 41, 76, 96, 13, 58, 47, 37, 66, 22, 62, 15, 74, 25, 42, 79, 24, 53, 69, 27, 91]), (29, [74, 76, 41, 27, 22, 25, 53, 96, 24, 91, 12, 66, 75, 47, 69, 36, 39, 84, 62, 94, 13, 58, 46, 93]), (53, [96, 42, 36, 51, 41, 15, 61, 69, 27, 79, 66, 73, 39, 37, 77, 46, 98, 11, 25, 91, 62, 47, 74, 58]), (51, [85, 92, 11, 13, 73, 75, 88, 26, 59, 12, 99, 94, 34, 72, 56, 77, 93, 87, 35, 84, 64, 32, 29, 43]), (11, [75, 12, 59, 99, 35, 22, 13, 85, 77, 73, 94, 43, 84, 29, 87, 92, 34, 93, 32, 64, 56, 72, 26, 88]), (94, [76, 12, 84, 15, 62, 93, 24, 39, 25, 53, 58, 91, 27, 66, 41, 36, 46, 47, 74, 22, 69, 75, 13, 96]), (34, [26, 47, 24, 93, 13, 66, 96, 12, 76, 85, 22, 27, 39, 25, 94, 87, 41, 46, 29, 53, 75, 62, 91, 84]), (59, [26, 88, 32, 41, 27, 96, 94, 13, 84, 53, 12, 34, 35, 22, 92, 29, 91, 64, 75, 76, 87, 24, 93, 85]), (75, [66, 39, 46, 15, 37, 47, 96, 22, 25, 62, 13, 69, 12, 24, 41, 53, 74, 84, 76, 58, 36, 27, 79, 91]), (72, [93, 92, 26, 24, 53, 35, 84, 29, 85, 94, 76, 91, 27, 59, 13, 87, 64, 34, 75, 99, 22, 88, 32, 12]), (36, [69, 79, 37, 58, 59, 92, 56, 61, 64, 73, 88, 11, 98, 51, 99, 72, 15, 34, 35, 32, 77, 43, 42, 74]), (42, [93, 29, 34, 51, 73, 11, 32, 35, 99, 56, 43, 88, 92, 85, 59, 64, 87, 77, 75, 12, 94, 26, 72, 98]), (13, [53, 62, 66, 41, 24, 58, 79, 25, 69, 27, 42, 61, 39, 91, 15, 37, 96, 76, 47, 74, 98, 22, 36, 46]), (37, [43, 56, 98, 64, 72, 77, 88, 59, 87, 34, 73, 85, 94, 92, 29, 99, 35, 51, 11, 26, 32, 42, 93, 61]), (56, [92, 35, 72, 34, 12, 64, 59, 87, 88, 76, 93, 29, 43, 94, 26, 22, 32, 53, 24, 75, 85, 99, 84, 13]), (24, [27, 91, 51, 41, 46, 25, 11, 62, 58, 66, 15, 36, 96, 39, 79, 53, 74, 61, 47, 98, 73, 37, 69, 42]), (92, [27, 76, 46, 26, 75, 84, 87, 96, 91, 13, 34, 88, 39, 22, 85, 29, 24, 94, 47, 41, 25, 53, 12, 93]), (73, [35, 72, 12, 32, 13, 34, 99, 76, 88, 56, 94, 77, 84, 29, 75, 87, 26, 93, 59, 92, 43, 64, 85, 22]), (62, [32, 35, 11, 51, 61, 98, 73, 43, 56, 59, 15, 92, 66, 58, 36, 74, 64, 69, 99, 42, 37, 77, 79, 72]), (85, [13, 94, 53, 39, 93, 96, 75, 87, 62, 12, 66, 26, 76, 29, 27, 91, 41, 25, 22, 36, 84, 24, 47, 46]), (47, [15, 51, 61, 73, 37, 98, 43, 32, 58, 46, 11, 79, 99, 74, 42, 56, 62, 66, 25, 69, 59, 72, 77, 36]), (66, [69, 99, 35, 32, 61, 98, 15, 74, 56, 43, 79, 37, 72, 77, 51, 88, 59, 92, 36, 73, 64, 58, 42, 11])])"
      ]
     },
     "execution_count": 31,
     "metadata": {},
     "output_type": "execute_result"
    }
   ],
   "source": [
    "dag.items()"
   ]
  },
  {
   "cell_type": "code",
   "execution_count": 40,
   "metadata": {},
   "outputs": [
    {
     "name": "stdout",
     "output_type": "stream",
     "text": [
      "Requirement already satisfied: pyvis in /Users/thomas.hirsch/Documents/adventofcode/venv/lib/python3.11/site-packages (0.3.2)\n",
      "Requirement already satisfied: ipython>=5.3.0 in /Users/thomas.hirsch/Documents/adventofcode/venv/lib/python3.11/site-packages (from pyvis) (8.18.1)\n",
      "Requirement already satisfied: jinja2>=2.9.6 in /Users/thomas.hirsch/Documents/adventofcode/venv/lib/python3.11/site-packages (from pyvis) (3.1.2)\n",
      "Requirement already satisfied: jsonpickle>=1.4.1 in /Users/thomas.hirsch/Documents/adventofcode/venv/lib/python3.11/site-packages (from pyvis) (3.0.2)\n",
      "Requirement already satisfied: networkx>=1.11 in /Users/thomas.hirsch/Documents/adventofcode/venv/lib/python3.11/site-packages (from pyvis) (3.2.1)\n",
      "Requirement already satisfied: decorator in /Users/thomas.hirsch/Documents/adventofcode/venv/lib/python3.11/site-packages (from ipython>=5.3.0->pyvis) (5.1.1)\n",
      "Requirement already satisfied: jedi>=0.16 in /Users/thomas.hirsch/Documents/adventofcode/venv/lib/python3.11/site-packages (from ipython>=5.3.0->pyvis) (0.19.1)\n",
      "Requirement already satisfied: matplotlib-inline in /Users/thomas.hirsch/Documents/adventofcode/venv/lib/python3.11/site-packages (from ipython>=5.3.0->pyvis) (0.1.6)\n",
      "Requirement already satisfied: prompt-toolkit<3.1.0,>=3.0.41 in /Users/thomas.hirsch/Documents/adventofcode/venv/lib/python3.11/site-packages (from ipython>=5.3.0->pyvis) (3.0.41)\n",
      "Requirement already satisfied: pygments>=2.4.0 in /Users/thomas.hirsch/Documents/adventofcode/venv/lib/python3.11/site-packages (from ipython>=5.3.0->pyvis) (2.17.2)\n",
      "Requirement already satisfied: stack-data in /Users/thomas.hirsch/Documents/adventofcode/venv/lib/python3.11/site-packages (from ipython>=5.3.0->pyvis) (0.6.3)\n",
      "Requirement already satisfied: traitlets>=5 in /Users/thomas.hirsch/Documents/adventofcode/venv/lib/python3.11/site-packages (from ipython>=5.3.0->pyvis) (5.14.0)\n",
      "Requirement already satisfied: pexpect>4.3 in /Users/thomas.hirsch/Documents/adventofcode/venv/lib/python3.11/site-packages (from ipython>=5.3.0->pyvis) (4.9.0)\n",
      "Requirement already satisfied: MarkupSafe>=2.0 in /Users/thomas.hirsch/Documents/adventofcode/venv/lib/python3.11/site-packages (from jinja2>=2.9.6->pyvis) (2.1.3)\n",
      "Requirement already satisfied: parso<0.9.0,>=0.8.3 in /Users/thomas.hirsch/Documents/adventofcode/venv/lib/python3.11/site-packages (from jedi>=0.16->ipython>=5.3.0->pyvis) (0.8.3)\n",
      "Requirement already satisfied: ptyprocess>=0.5 in /Users/thomas.hirsch/Documents/adventofcode/venv/lib/python3.11/site-packages (from pexpect>4.3->ipython>=5.3.0->pyvis) (0.7.0)\n",
      "Requirement already satisfied: wcwidth in /Users/thomas.hirsch/Documents/adventofcode/venv/lib/python3.11/site-packages (from prompt-toolkit<3.1.0,>=3.0.41->ipython>=5.3.0->pyvis) (0.2.12)\n",
      "Requirement already satisfied: executing>=1.2.0 in /Users/thomas.hirsch/Documents/adventofcode/venv/lib/python3.11/site-packages (from stack-data->ipython>=5.3.0->pyvis) (2.0.1)\n",
      "Requirement already satisfied: asttokens>=2.1.0 in /Users/thomas.hirsch/Documents/adventofcode/venv/lib/python3.11/site-packages (from stack-data->ipython>=5.3.0->pyvis) (2.4.1)\n",
      "Requirement already satisfied: pure-eval in /Users/thomas.hirsch/Documents/adventofcode/venv/lib/python3.11/site-packages (from stack-data->ipython>=5.3.0->pyvis) (0.2.2)\n",
      "Requirement already satisfied: six>=1.12.0 in /Users/thomas.hirsch/Documents/adventofcode/venv/lib/python3.11/site-packages (from asttokens>=2.1.0->stack-data->ipython>=5.3.0->pyvis) (1.16.0)\n"
     ]
    }
   ],
   "source": [
    "!pip install -U pyvis"
   ]
  }
 ],
 "metadata": {
  "kernelspec": {
   "display_name": "venv",
   "language": "python",
   "name": "python3"
  },
  "language_info": {
   "codemirror_mode": {
    "name": "ipython",
    "version": 3
   },
   "file_extension": ".py",
   "mimetype": "text/x-python",
   "name": "python",
   "nbconvert_exporter": "python",
   "pygments_lexer": "ipython3",
   "version": "3.11.9"
  }
 },
 "nbformat": 4,
 "nbformat_minor": 2
}
