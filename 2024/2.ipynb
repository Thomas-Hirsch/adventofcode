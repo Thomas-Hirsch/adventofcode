{
 "cells": [
  {
   "cell_type": "code",
   "execution_count": 88,
   "metadata": {},
   "outputs": [
    {
     "data": {
      "text/plain": [
       "585"
      ]
     },
     "execution_count": 88,
     "metadata": {},
     "output_type": "execute_result"
    }
   ],
   "source": [
    "from aocd import get_data\n",
    "\n",
    "data = get_data(day=2,year=2024)\n",
    "\n",
    "data = [[int(x) for x in line.split()] for line in data.splitlines()]\n",
    "\n",
    "def check_safety(line):\n",
    "    line_pairs = [(i,j) for i,j in zip(line, line[1:])]\n",
    "    increasing = [i < j for i,j in line_pairs]\n",
    "    decreasing = [i> j for i,j in line_pairs]\n",
    "    within_tolerance = [1 <= abs(i-j) <= 3 for i,j in line_pairs]\n",
    "\n",
    "    return (all(increasing) or all(decreasing)) and all(within_tolerance)\n",
    "# part 1\n",
    "sum(check_safety(line) for line in data)"
   ]
  },
  {
   "cell_type": "code",
   "execution_count": 100,
   "metadata": {},
   "outputs": [
    {
     "data": {
      "text/plain": [
       "41"
      ]
     },
     "execution_count": 100,
     "metadata": {},
     "output_type": "execute_result"
    }
   ],
   "source": [
    "\n",
    "def check_fix(line):\n",
    "    passes = 0\n",
    "    for i in range(len(line)):\n",
    "        subline = line[0:i] + line[i+1:]\n",
    "        if check_safety(subline):\n",
    "            passes += 1\n",
    "    return passes > 0\n",
    "\n",
    "fails = [line for line in data if not check_safety(line)]\n",
    "\n",
    "sum(check_fix(line) for line in fails) "
   ]
  }
 ],
 "metadata": {
  "kernelspec": {
   "display_name": "venv",
   "language": "python",
   "name": "python3"
  },
  "language_info": {
   "codemirror_mode": {
    "name": "ipython",
    "version": 3
   },
   "file_extension": ".py",
   "mimetype": "text/x-python",
   "name": "python",
   "nbconvert_exporter": "python",
   "pygments_lexer": "ipython3",
   "version": "3.11.9"
  }
 },
 "nbformat": 4,
 "nbformat_minor": 2
}
