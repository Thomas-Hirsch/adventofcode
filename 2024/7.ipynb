{
 "cells": [
  {
   "cell_type": "code",
   "execution_count": 46,
   "metadata": {},
   "outputs": [
    {
     "name": "stdout",
     "output_type": "stream",
     "text": [
      "1.41 s ± 868 µs per loop (mean ± std. dev. of 7 runs, 1 loop each)\n"
     ]
    }
   ],
   "source": [
    "%%timeit\n",
    "from aocd import get_data\n",
    "\n",
    "data = get_data(year=2024,day=7).splitlines()\n",
    "\n",
    "def parse_line(line):\n",
    "    target, calcs = line.split(\": \")\n",
    "    return(int(target), [int(x) for x in calcs.split()])\n",
    "\n",
    "def check_valid(target, calcs):\n",
    "    if calcs[0] >= target or len(calcs) == 1:\n",
    "        return calcs[0] == target\n",
    "    else:\n",
    "        return(check_valid(target, [calcs[0] + calcs[1], *calcs[2:]])\n",
    "        or check_valid(target, [calcs[0] * calcs[1], *calcs[2:]])\n",
    "        or check_valid(target, [concat(calcs[0],calcs[1]), *calcs[2:]]))\n",
    "\n",
    "sum(target for target, calcs in [parse_line(line) for line in data] if check_valid(target,calcs))"
   ]
  },
  {
   "cell_type": "code",
   "execution_count": 45,
   "metadata": {},
   "outputs": [
    {
     "data": {
      "text/plain": [
       "211100"
      ]
     },
     "execution_count": 45,
     "metadata": {},
     "output_type": "execute_result"
    }
   ],
   "source": [
    "import math\n",
    "def concat(a,b):\n",
    "    return a * (10 ** math.ceil(math.log10(b+1))) + b\n",
    "\n",
    "concat(21,1100)"
   ]
  }
 ],
 "metadata": {
  "kernelspec": {
   "display_name": "venv",
   "language": "python",
   "name": "python3"
  },
  "language_info": {
   "codemirror_mode": {
    "name": "ipython",
    "version": 3
   },
   "file_extension": ".py",
   "mimetype": "text/x-python",
   "name": "python",
   "nbconvert_exporter": "python",
   "pygments_lexer": "ipython3",
   "version": "3.11.9"
  }
 },
 "nbformat": 4,
 "nbformat_minor": 2
}
